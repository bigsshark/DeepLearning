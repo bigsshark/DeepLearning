{
 "cells": [
  {
   "cell_type": "markdown",
   "metadata": {},
   "source": [
    "# eager_execution 机器学习平台用于研究和实验，非图计算"
   ]
  },
  {
   "cell_type": "code",
   "execution_count": 11,
   "metadata": {},
   "outputs": [],
   "source": [
    "import tensorflow as tf\n",
    "tf.enable_eager_execution()\n",
    "import numpy as np\n",
    "from pprint import pprint"
   ]
  },
  {
   "cell_type": "code",
   "execution_count": 16,
   "metadata": {},
   "outputs": [
    {
     "name": "stdout",
     "output_type": "stream",
     "text": [
      "hello[[16]]\n",
      "tf.Tensor([[17]], shape=(1, 1), dtype=int32)\n",
      "<tf.Tensor: id=109, shape=(1, 1), dtype=int32, numpy=array([[272]], dtype=int32)>\n",
      "array([[272]], dtype=int32)\n",
      "array([[17]], dtype=int32)\n"
     ]
    }
   ],
   "source": [
    "# 直接返回结果，不需要session.run()\n",
    "tf.executing_eagerly()\n",
    "x = [[4]]\n",
    "m = tf.matmul(x,x)\n",
    "print(\"hello{}\".format(m))\n",
    "b = tf.add(m,1)\n",
    "print(b)\n",
    "pprint(m*b)\n",
    "a = np.multiply(m,b)\n",
    "pprint(a)\n",
    "pprint(b.numpy())"
   ]
  },
  {
   "cell_type": "code",
   "execution_count": 28,
   "metadata": {},
   "outputs": [
    {
     "name": "stdout",
     "output_type": "stream",
     "text": [
      "tf.Tensor(32, shape=(), dtype=int32)\n"
     ]
    }
   ],
   "source": [
    "# tfe\n",
    "tfe = tf.contrib.eager\n",
    "def fizzbuzz(max_num):\n",
    "    counter = tf.constant(0)\n",
    "    max_num = tf.convert_to_tensor(max_num)\n",
    "    for num in range(1, max_num.numpy()+1):\n",
    "        num = tf.constant(num)\n",
    "        if int(num % 3) == 0 and int(num % 5) == 0:\n",
    "            print('FizzBuzz')\n",
    "        elif int(num % 3) == 0:\n",
    "            print('Fizz')\n",
    "        elif int(num % 5) == 0:\n",
    "            print('Buzz')\n",
    "        else:\n",
    "            print(num.numpy())\n",
    "        counter += 1\n",
    "\n",
    "max_num = tf.convert_to_tensor(32)\n",
    "print(max_num)"
   ]
  },
  {
   "cell_type": "code",
   "execution_count": null,
   "metadata": {},
   "outputs": [],
   "source": []
  }
 ],
 "metadata": {
  "kernelspec": {
   "display_name": "Python 3",
   "language": "python",
   "name": "python3"
  },
  "language_info": {
   "codemirror_mode": {
    "name": "ipython",
    "version": 3
   },
   "file_extension": ".py",
   "mimetype": "text/x-python",
   "name": "python",
   "nbconvert_exporter": "python",
   "pygments_lexer": "ipython3",
   "version": "3.6.8"
  }
 },
 "nbformat": 4,
 "nbformat_minor": 2
}
