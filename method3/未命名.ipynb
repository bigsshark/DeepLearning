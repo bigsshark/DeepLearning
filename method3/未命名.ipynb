{
 "cells": [
  {
   "cell_type": "code",
   "execution_count": 1,
   "metadata": {},
   "outputs": [
    {
     "name": "stderr",
     "output_type": "stream",
     "text": [
      "Using TensorFlow backend.\n"
     ]
    }
   ],
   "source": [
    "from train_triplet_model_color import *"
   ]
  },
  {
   "cell_type": "code",
   "execution_count": 2,
   "metadata": {},
   "outputs": [
    {
     "name": "stdout",
     "output_type": "stream",
     "text": [
      "The original data list has 55269 samples, the new data list has 53420 samples.\n"
     ]
    }
   ],
   "source": [
    "train_path = './train_valid/train_image_vid_model_color.txt'\n",
    "\n",
    "train_data_lines = open(train_path).readlines()\n",
    "    # Check if image path exists.\n",
    "train_data_lines = [w for w in train_data_lines if os.path.exists(w.strip().split(' ')[0])]\n",
    "train_data_lines, dic_train_data_lines = filter_data_list(train_data_lines)"
   ]
  },
  {
   "cell_type": "code",
   "execution_count": 7,
   "metadata": {},
   "outputs": [
    {
     "data": {
      "text/plain": [
       "228"
      ]
     },
     "execution_count": 7,
     "metadata": {},
     "output_type": "execute_result"
    }
   ],
   "source": [
    "len(dic_train_data_lines.keys())"
   ]
  },
  {
   "cell_type": "code",
   "execution_count": 10,
   "metadata": {},
   "outputs": [
    {
     "data": {
      "text/plain": [
       "'/Users/xywy/Downloads/VehicleID_V1.0/image/0168216.jpg 14358 57 4'"
      ]
     },
     "execution_count": 10,
     "metadata": {},
     "output_type": "execute_result"
    }
   ],
   "source": [
    "# 颜色一样， 模型一样, 车id不一样\n",
    "# 第一步取第一一个anchor \n",
    "train_data_lines[0] #取出来对应的 vid"
   ]
  },
  {
   "cell_type": "code",
   "execution_count": 11,
   "metadata": {},
   "outputs": [
    {
     "data": {
      "text/plain": [
       "\"\\n{'57': {'4': {'14358': ['/Users/xywy/Downloads/VehicleID_V1.0/image/0168216.jpg',\\n    '/Users/xywy/Downloads/VehicleID_V1.0/image/0168213.jpg',\\n    '/Users/xywy/Downloads/VehicleID_V1.0/image/0168215.jpg',\\n    '/Users/xywy/Downloads/VehicleID_V1.0/image/0168214.jpg'],\\n   '12228': ['/Users/xywy/Downloads/VehicleID_V1.0/image/0143255.jpg',\\n    '/Users/xywy/Downloads/VehicleID_V1.0/image/0143259.jpg',\\n    '/Users/xywy/Downloads/VehicleID_V1.0/image/0143260.jpg',\\n    '/Users/xywy/Downloads/VehicleID_V1.0/image/0143257.jpg',\\n    '/Users/xywy/Downloads/VehicleID_V1.0/image/0143256.jpg'],\\n   '13082': ['/Users/xywy/Downloads/VehicleID_V1.0/image/0153584.jpg',\\n    '/Users/xywy/Downloads/VehicleID_V1.0/image/0153583.jpg',\\n    '/Users/xywy/Downloads/VehicleID_V1.0/image/0153593.jpg',\\n    '/Users/xywy/Downloads/VehicleID_V1.0/image/0153589.jpg',\\n    '/Users/xywy/Downloads/VehicleID_V1.0/image/0153582.jpg',\\n    '/Users/xywy/Downloads/VehicleID_V1.0/image/0153592.jpg',\\n    '/Users/xywy/Downloads/VehicleID_V1.0/image/0153579.jpg',\\n    '/Users/xywy/Downloads/VehicleID_V1.0/image/0153588.jpg',\\n    '/Users/xywy/Downloads/VehicleID_V1.0/image/0153585.jpg',\\n    '/Users/xywy/Downloads/VehicleID_V1.0/image/0153595.jpg',\\n    '/Users/xywy/Downloads/VehicleID_V1.0/image/0153580.jpg',\\n    '/Users/xywy/Downloads/VehicleID_V1.0/image/0153594.jpg',\\n    '/Users/xywy/Downloads/VehicleID_V1.0/image/0153596.jpg',\\n    '/Users/xywy/Downloads/VehicleID_V1.0/image/0153578.jpg',\\n    '/Users/xywy/Downloads/VehicleID_V1.0/image/0153591.jpg',\\n    '/Users/xywy/Downloads/VehicleID_V1.0/image/0153587.jpg'],\\n   '17889': ['/Users/xywy/Downloads/VehicleID_V1.0/image/0210339.jpg',\\n    '/Users/xywy/Downloads/VehicleID_V1.0/image/0210342.jpg',\\n    '/Users/xywy/Downloads/VehicleID_V1.0/image/0210337.jpg'],\\n\""
      ]
     },
     "execution_count": 11,
     "metadata": {},
     "output_type": "execute_result"
    }
   ],
   "source": [
    "\"\"\"\n",
    "{'57': {'4': {'14358': ['/Users/xywy/Downloads/VehicleID_V1.0/image/0168216.jpg',\n",
    "    '/Users/xywy/Downloads/VehicleID_V1.0/image/0168213.jpg',\n",
    "    '/Users/xywy/Downloads/VehicleID_V1.0/image/0168215.jpg',\n",
    "    '/Users/xywy/Downloads/VehicleID_V1.0/image/0168214.jpg'],\n",
    "   '12228': ['/Users/xywy/Downloads/VehicleID_V1.0/image/0143255.jpg',\n",
    "    '/Users/xywy/Downloads/VehicleID_V1.0/image/0143259.jpg',\n",
    "    '/Users/xywy/Downloads/VehicleID_V1.0/image/0143260.jpg',\n",
    "    '/Users/xywy/Downloads/VehicleID_V1.0/image/0143257.jpg',\n",
    "    '/Users/xywy/Downloads/VehicleID_V1.0/image/0143256.jpg'],\n",
    "   '13082': ['/Users/xywy/Downloads/VehicleID_V1.0/image/0153584.jpg',\n",
    "    '/Users/xywy/Downloads/VehicleID_V1.0/image/0153583.jpg',\n",
    "    '/Users/xywy/Downloads/VehicleID_V1.0/image/0153593.jpg',\n",
    "    '/Users/xywy/Downloads/VehicleID_V1.0/image/0153589.jpg',\n",
    "    '/Users/xywy/Downloads/VehicleID_V1.0/image/0153582.jpg',\n",
    "    '/Users/xywy/Downloads/VehicleID_V1.0/image/0153592.jpg',\n",
    "    '/Users/xywy/Downloads/VehicleID_V1.0/image/0153579.jpg',\n",
    "    '/Users/xywy/Downloads/VehicleID_V1.0/image/0153588.jpg',\n",
    "    '/Users/xywy/Downloads/VehicleID_V1.0/image/0153585.jpg',\n",
    "    '/Users/xywy/Downloads/VehicleID_V1.0/image/0153595.jpg',\n",
    "    '/Users/xywy/Downloads/VehicleID_V1.0/image/0153580.jpg',\n",
    "    '/Users/xywy/Downloads/VehicleID_V1.0/image/0153594.jpg',\n",
    "    '/Users/xywy/Downloads/VehicleID_V1.0/image/0153596.jpg',\n",
    "    '/Users/xywy/Downloads/VehicleID_V1.0/image/0153578.jpg',\n",
    "    '/Users/xywy/Downloads/VehicleID_V1.0/image/0153591.jpg',\n",
    "    '/Users/xywy/Downloads/VehicleID_V1.0/image/0153587.jpg'],\n",
    "   '17889': ['/Users/xywy/Downloads/VehicleID_V1.0/image/0210339.jpg',\n",
    "    '/Users/xywy/Downloads/VehicleID_V1.0/image/0210342.jpg',\n",
    "    '/Users/xywy/Downloads/VehicleID_V1.0/image/0210337.jpg'],\n",
    "\"\"\""
   ]
  },
  {
   "cell_type": "code",
   "execution_count": null,
   "metadata": {},
   "outputs": [],
   "source": []
  }
 ],
 "metadata": {
  "kernelspec": {
   "display_name": "Python 3",
   "language": "python",
   "name": "python3"
  },
  "language_info": {
   "codemirror_mode": {
    "name": "ipython",
    "version": 3
   },
   "file_extension": ".py",
   "mimetype": "text/x-python",
   "name": "python",
   "nbconvert_exporter": "python",
   "pygments_lexer": "ipython3",
   "version": "3.6.8"
  }
 },
 "nbformat": 4,
 "nbformat_minor": 2
}
