{
 "cells": [
  {
   "cell_type": "markdown",
   "metadata": {},
   "source": [
    "# l  Base Classifacation\n",
    "tf.keras.datasets.mnist, tf.keras.datasets.fashion_mnist   "
   ]
  },
  {
   "cell_type": "code",
   "execution_count": 87,
   "metadata": {},
   "outputs": [],
   "source": [
    "from __future__ import absolute_import,division,print_function,unicode_literals\n",
    "\n",
    "import tensorflow as tf\n",
    "import matplotlib.pyplot as plt\n",
    "from tensorflow.keras import layers\n",
    "from sklearn.model_selection import train_test_split\n",
    "import numpy as np"
   ]
  },
  {
   "cell_type": "code",
   "execution_count": 119,
   "metadata": {},
   "outputs": [
    {
     "name": "stdout",
     "output_type": "stream",
     "text": [
      "10000/10000 [==============================] - 1s 65us/sample - loss: 142.1311 - acc: 0.1121\n"
     ]
    },
    {
     "data": {
      "text/plain": [
       "[142.1310849609375, 0.1121]"
      ]
     },
     "execution_count": 119,
     "metadata": {},
     "output_type": "execute_result"
    },
    {
     "data": {
      "image/png": "[encoded data removed]",
      "text/plain": [
       "<Figure size 432x288 with 1 Axes>"
      ]
     },
     "metadata": {
      "needs_background": "light"
     },
     "output_type": "display_data"
    }
   ],
   "source": [
    "mnist = tf.keras.datasets.mnist\n",
    "(x_train,y_train),(x_test,y_test) = mnist.load_data()\n",
    "plt.imshow(x_train[10,:,:])\n",
    "\n",
    "model = tf.keras.models.Sequential([layers.Flatten(input_shape=(28,28)), \n",
    "                                   layers.Dense(512,activation='relu'),\n",
    "                                   layers.Dropout(0.3),\n",
    "                                   layers.Dense(10,activation='softmax')])\n",
    "\n",
    "callak = [tf.keras.callbacks.EarlyStopping(patience=2, monitor='acc')]\n",
    "\n",
    "model.compile('adam',loss='sparse_categorical_crossentropy',metrics=['accuracy'])\n",
    "# model.fit(x_train,y_train,epochs=20,callbacks=callak)\n",
    "model.evaluate(x_test,y_test)"
   ]
  },
  {
   "cell_type": "code",
   "execution_count": 121,
   "metadata": {},
   "outputs": [],
   "source": [
    "fashion_datasets = tf.keras.datasets.fashion_mnist\n",
    "(x_train,y_train), (x_test, y_test) = fashion_datasets.load_data()\n",
    "class_names = ['T-shirt/top', 'Trouser', 'Pullover', 'Dress', 'Coat',\n",
    "               'Sandal', 'Shirt', 'Sneaker', 'Bag', 'Ankle boot']"
   ]
  },
  {
   "cell_type": "code",
   "execution_count": 82,
   "metadata": {},
   "outputs": [],
   "source": [
    "# 未归一化 0.8206\n",
    "# 归一化  0.9218   10个百分点的差距我曹...\n",
    "x_train = x_train/255.\n",
    "x_test = x_test/255."
   ]
  },
  {
   "cell_type": "code",
   "execution_count": 118,
   "metadata": {},
   "outputs": [],
   "source": [
    "# x_train, x_valid, y_train, y_valid  = train_test_split(x_train,y_train, test_size=0.3,random_state=2019)\n",
    "# train_dataset = tf.data.Dataset.from_tensor_slices((x_train,y_train))\n",
    "# train_dataset = train_dataset.repeat(10).batch(32).shuffle(10)\n",
    "# valid_dataset = tf.data.Dataset.from_tensor_slices((x_valid,y_valid))\n",
    "# valid_dataset = valid_dataset.repeat(10).batch(32).shuffle(10)\n",
    "model = tf.keras.models.Sequential([\n",
    "    layers.Flatten(input_shape=(28,28)),\n",
    "    layers.Dense(128,activation='relu'),\n",
    "    layers.Dense(10,activation='softmax')\n",
    "])\n",
    "\n",
    "# loss,acc,val_loss patience 选择回影响精度 我的实验表明选择3会有好点的效果\n",
    "callak = [tf.keras.callbacks.EarlyStopping(patience=3, monitor='loss')]\n",
    "\n",
    "\n",
    "model.compile('rmsprop', loss='sparse_categorical_crossentropy',metrics=['accuracy'])\n",
    "\n",
    "# model.fit(x_train,y_train,callbacks=callak,epochs=20,batch_size=32)"
   ]
  },
  {
   "cell_type": "code",
   "execution_count": 92,
   "metadata": {},
   "outputs": [
    {
     "name": "stdout",
     "output_type": "stream",
     "text": [
      "10000/10000 [==============================] - 0s 25us/sample - loss: 0.5390 - acc: 0.8746\n",
      "Ankle boot\n",
      "Ankle boot\n"
     ]
    },
    {
     "data": {
      "image/png": "[encoded data removed]",
      "text/plain": [
       "<Figure size 432x288 with 1 Axes>"
      ]
     },
     "metadata": {
      "needs_background": "light"
     },
     "output_type": "display_data"
    }
   ],
   "source": [
    "model.evaluate(x_test,y_test)\n",
    "predicts = model.predict(x_test)\n",
    "print(class_names[np.argmax(predicts[0])])\n",
    "plt.imshow(x_test[0,:,:])\n",
    "print(class_names[y_test[0]])"
   ]
  },
  {
   "cell_type": "code",
   "execution_count": 105,
   "metadata": {},
   "outputs": [],
   "source": [
    "# 概率是多少， truelabel  predictlabel\n",
    "def plot_pred_true(i,predictions,true_img,class_names):\n",
    "    \n",
    "    plt.grid(False)\n",
    "    plt.xticks([])\n",
    "    plt.yticks([])\n",
    "    img = x_test[i]\n",
    "    true_name = class_names[np.argmax(predictions[i])]\n",
    "    predict_name = class_names[np.argmax(predictions[i])]\n",
    "    if true_name == predict_name:\n",
    "        color = 'blue'\n",
    "    else:\n",
    "        color='red'\n",
    "    plt.imshow(img,cmap=plt.cm.binary)\n",
    "    plt.xlabel(\"{} {:2.0f}% ({})\".format(predict_name, 100*np.max(predictions[i]),true_name),color=color)"
   ]
  },
  {
   "cell_type": "code",
   "execution_count": 117,
   "metadata": {},
   "outputs": [
    {
     "data": {
      "image/png": "[encoded data removed]",
      "text/plain": [
       "<Figure size 576x288 with 4 Axes>"
      ]
     },
     "metadata": {},
     "output_type": "display_data"
    }
   ],
   "source": [
    "# plot_pred_true(5,predicts,x_test,class_names)\n",
    "\n",
    "num_rows = 2\n",
    "num_columns = 2\n",
    "num_images = num_rows * num_columns\n",
    "plt.figure(figsize=(2*2*num_columns,2*num_rows))\n",
    "for i in range(num_images):\n",
    "    plt.subplot(num_rows,2*num_columns,2*i+1)\n",
    "    plot_pred_true(i,predicts,x_test,class_names)"
   ]
  },
  {
   "cell_type": "markdown",
   "metadata": {},
   "source": [
    "# II Text Classif"
   ]
  },
  {
   "cell_type": "code",
   "execution_count": null,
   "metadata": {},
   "outputs": [],
   "source": []
  }
 ],
 "metadata": {
  "kernelspec": {
   "display_name": "Python 3",
   "language": "python",
   "name": "python3"
  },
  "language_info": {
   "codemirror_mode": {
    "name": "ipython",
    "version": 3
   },
   "file_extension": ".py",
   "mimetype": "text/x-python",
   "name": "python",
   "nbconvert_exporter": "python",
   "pygments_lexer": "ipython3",
   "version": "3.6.8"
  }
 },
 "nbformat": 4,
 "nbformat_minor": 2
}
